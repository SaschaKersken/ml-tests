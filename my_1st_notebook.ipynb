{
 "cells": [
  {
   "cell_type": "markdown",
   "metadata": {},
   "source": [
    "# My First Notebook\n",
    "This is a **Jupyter Notebook**. It can be used to mix markdown and programming in Julia, Python and R (hence the name).\n",
    "## The First Python Program\n",
    "There is a long-standing tradition that you start learning a new programming language by writing a program that print \"Hello World\" on the screen. Here is the Python version of this program:"
   ]
  },
  {
   "cell_type": "code",
   "execution_count": null,
   "metadata": {},
   "outputs": [],
   "source": [
    "print(\"Hello World\")"
   ]
  },
  {
   "cell_type": "markdown",
   "metadata": {},
   "source": [
    "That's it! "
   ]
  },
  {
   "cell_type": "markdown",
   "metadata": {},
   "source": [
    "## Object-oriented Python\n",
    "At the core of object-oriented programming, there are *classes*. They model data and behaviour for objects of specific types. In this example, three Python classes are defined, and then some sample code puts them to use."
   ]
  },
  {
   "cell_type": "code",
   "execution_count": 4,
   "metadata": {},
   "outputs": [
    {
     "name": "stdout",
     "output_type": "stream",
     "text": [
      "George R.R. Martin: 'A Game of Thrones' (Fiction > Speculative Fiction > Fantasy)\n",
      "Isaac Asimov: 'Foundation' (Fiction > Speculative Fiction > Science Fiction)\n",
      "Arthur Conan Doyle: 'Sherlock Holmes' (Fiction > Realistic Fiction > Crime)\n"
     ]
    }
   ],
   "source": [
    "class Author:\n",
    "    def __init__(self, first_name, last_name):\n",
    "        self.first_name = first_name\n",
    "        self.last_name = last_name\n",
    "    \n",
    "    def __str__(self):\n",
    "        return \"{} {}\".format(self.first_name, self.last_name)\n",
    "    \n",
    "    \n",
    "class Genre:\n",
    "    def __init__(self, title, parent = None):\n",
    "        self.title = title\n",
    "        self.parent = parent\n",
    "        \n",
    "    def __str__(self):\n",
    "        result = self.title\n",
    "        if (self.parent):\n",
    "            result = \"{} > {}\".format(self.parent, self.title)\n",
    "        return result\n",
    "    \n",
    "class Book:\n",
    "    def __init__(self, author, title, genre):\n",
    "        self.author = author\n",
    "        self.title = title\n",
    "        self.genre = genre\n",
    "    \n",
    "    def __str__(self):\n",
    "        return \"{}: '{}' ({})\".format(self.author, self.title, self.genre)\n",
    "    \n",
    "    \n",
    "if __name__ == '__main__':\n",
    "    martin = Author(\"George R.R.\", \"Martin\")\n",
    "    asimov = Author(\"Isaac\", \"Asimov\")\n",
    "    doyle = Author(\"Arthur Conan\", \"Doyle\")\n",
    "    fiction = Genre(\"Fiction\")\n",
    "    speculative_fiction = Genre(\"Speculative Fiction\", fiction)\n",
    "    science_fiction = Genre(\"Science Fiction\", speculative_fiction)\n",
    "    fantasy = Genre(\"Fantasy\", speculative_fiction)\n",
    "    realistic_fiction = Genre(\"Realistic Fiction\", fiction)\n",
    "    crime = Genre(\"Crime\", realistic_fiction)\n",
    "    books = [\n",
    "        Book(martin, \"A Game of Thrones\", fantasy),\n",
    "        Book(asimov, \"Foundation\", science_fiction),\n",
    "        Book(doyle, \"Sherlock Holmes\", crime)\n",
    "    ]\n",
    "    for book in books:\n",
    "        print(book)\n",
    "    "
   ]
  },
  {
   "cell_type": "markdown",
   "metadata": {},
   "source": [
    "## Matplotlib\n",
    "We can plot function graphs, charts and similar things using **matplotlib**."
   ]
  },
  {
   "cell_type": "code",
   "execution_count": 3,
   "metadata": {},
   "outputs": [
    {
     "data": {
      "image/png": "[encoded data removed]",
      "text/plain": [
       "<Figure size 432x288 with 1 Axes>"
      ]
     },
     "metadata": {
      "needs_background": "light"
     },
     "output_type": "display_data"
    }
   ],
   "source": [
    "import matplotlib.pyplot as plt\n",
    "\n",
    "plt.xlabel('x')\n",
    "plt.ylabel('y')\n",
    "plt.arrow(0, 0, 3, 3, head_width=0.1)\n",
    "plt.arrow(0, 0, -3, 2, head_width=0.1)\n",
    "plt.arrow(0, 0, -4, -1, head_width=0.1)\n",
    "plt.text(3.1, 3.1, 'v1')\n",
    "plt.text(-3.3, 2.2, 'v2')\n",
    "plt.text(-4.3, -1.2, 'v3')\n",
    "plt.grid()\n",
    "plt.axis([-5, 5, -5, 5])\n",
    "plt.axhline(linewidth=2)\n",
    "plt.axvline(linewidth=2)\n",
    "plt.show()"
   ]
  },
  {
   "cell_type": "code",
   "execution_count": null,
   "metadata": {},
   "outputs": [],
   "source": []
  }
 ],
 "metadata": {
  "kernelspec": {
   "display_name": "Python 3",
   "language": "python",
   "name": "python3"
  },
  "language_info": {
   "codemirror_mode": {
    "name": "ipython",
    "version": 3
   },
   "file_extension": ".py",
   "mimetype": "text/x-python",
   "name": "python",
   "nbconvert_exporter": "python",
   "pygments_lexer": "ipython3",
   "version": "3.8.5"
  }
 },
 "nbformat": 4,
 "nbformat_minor": 4
}
